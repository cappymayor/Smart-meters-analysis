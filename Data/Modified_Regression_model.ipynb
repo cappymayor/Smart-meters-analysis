{
 "cells": [
  {
   "cell_type": "code",
   "execution_count": 62,
   "metadata": {},
   "outputs": [],
   "source": [
    "import pandas as pd\n",
    "import numpy as np\n",
    "import statsmodels.api as sm \n",
    "import matplotlib.pyplot as plt   \n",
    "from sklearn.linear_model import LinearRegression\n",
    "from sklearn import metrics"
   ]
  },
  {
   "cell_type": "code",
   "execution_count": 63,
   "metadata": {},
   "outputs": [],
   "source": [
    "df_merged = pd.read_csv(\"../Data/daily_weather_merged.csv\")"
   ]
  },
  {
   "cell_type": "code",
   "execution_count": 64,
   "metadata": {},
   "outputs": [
    {
     "data": {
      "text/html": [
       "<div>\n",
       "<style scoped>\n",
       "    .dataframe tbody tr th:only-of-type {\n",
       "        vertical-align: middle;\n",
       "    }\n",
       "\n",
       "    .dataframe tbody tr th {\n",
       "        vertical-align: top;\n",
       "    }\n",
       "\n",
       "    .dataframe thead th {\n",
       "        text-align: right;\n",
       "    }\n",
       "</style>\n",
       "<table border=\"1\" class=\"dataframe\">\n",
       "  <thead>\n",
       "    <tr style=\"text-align: right;\">\n",
       "      <th></th>\n",
       "      <th>Unnamed: 0</th>\n",
       "      <th>day</th>\n",
       "      <th>LCLid</th>\n",
       "      <th>energy_sum</th>\n",
       "      <th>energy_mean</th>\n",
       "      <th>energy_max</th>\n",
       "      <th>energy_min</th>\n",
       "      <th>energy_std</th>\n",
       "      <th>energy_count</th>\n",
       "      <th>dayTime</th>\n",
       "      <th>visibility</th>\n",
       "      <th>temperatureMin</th>\n",
       "      <th>temperatureMax</th>\n",
       "      <th>icon</th>\n",
       "      <th>cloudCover</th>\n",
       "      <th>moonPhase</th>\n",
       "    </tr>\n",
       "  </thead>\n",
       "  <tbody>\n",
       "    <tr>\n",
       "      <th>0</th>\n",
       "      <td>0</td>\n",
       "      <td>2011-11-23</td>\n",
       "      <td>MAC000149</td>\n",
       "      <td>2.287</td>\n",
       "      <td>0.081679</td>\n",
       "      <td>0.198</td>\n",
       "      <td>0.000</td>\n",
       "      <td>0.052851</td>\n",
       "      <td>28</td>\n",
       "      <td>8.52</td>\n",
       "      <td>8.06</td>\n",
       "      <td>3.81</td>\n",
       "      <td>10.36</td>\n",
       "      <td>fog</td>\n",
       "      <td>0.36</td>\n",
       "      <td>0.94</td>\n",
       "    </tr>\n",
       "    <tr>\n",
       "      <th>1</th>\n",
       "      <td>1</td>\n",
       "      <td>2011-11-23</td>\n",
       "      <td>MAC000154</td>\n",
       "      <td>5.798</td>\n",
       "      <td>0.252087</td>\n",
       "      <td>0.999</td>\n",
       "      <td>0.098</td>\n",
       "      <td>0.219155</td>\n",
       "      <td>23</td>\n",
       "      <td>8.52</td>\n",
       "      <td>8.06</td>\n",
       "      <td>3.81</td>\n",
       "      <td>10.36</td>\n",
       "      <td>fog</td>\n",
       "      <td>0.36</td>\n",
       "      <td>0.94</td>\n",
       "    </tr>\n",
       "    <tr>\n",
       "      <th>2</th>\n",
       "      <td>2</td>\n",
       "      <td>2011-11-23</td>\n",
       "      <td>MAC000156</td>\n",
       "      <td>6.523</td>\n",
       "      <td>0.296500</td>\n",
       "      <td>0.512</td>\n",
       "      <td>0.162</td>\n",
       "      <td>0.108046</td>\n",
       "      <td>22</td>\n",
       "      <td>8.52</td>\n",
       "      <td>8.06</td>\n",
       "      <td>3.81</td>\n",
       "      <td>10.36</td>\n",
       "      <td>fog</td>\n",
       "      <td>0.36</td>\n",
       "      <td>0.94</td>\n",
       "    </tr>\n",
       "    <tr>\n",
       "      <th>3</th>\n",
       "      <td>3</td>\n",
       "      <td>2011-11-23</td>\n",
       "      <td>MAC000150</td>\n",
       "      <td>9.254</td>\n",
       "      <td>0.330500</td>\n",
       "      <td>1.162</td>\n",
       "      <td>0.059</td>\n",
       "      <td>0.313498</td>\n",
       "      <td>28</td>\n",
       "      <td>8.52</td>\n",
       "      <td>8.06</td>\n",
       "      <td>3.81</td>\n",
       "      <td>10.36</td>\n",
       "      <td>fog</td>\n",
       "      <td>0.36</td>\n",
       "      <td>0.94</td>\n",
       "    </tr>\n",
       "    <tr>\n",
       "      <th>4</th>\n",
       "      <td>4</td>\n",
       "      <td>2011-11-23</td>\n",
       "      <td>MAC000147</td>\n",
       "      <td>3.036</td>\n",
       "      <td>0.108429</td>\n",
       "      <td>0.315</td>\n",
       "      <td>0.033</td>\n",
       "      <td>0.071653</td>\n",
       "      <td>28</td>\n",
       "      <td>8.52</td>\n",
       "      <td>8.06</td>\n",
       "      <td>3.81</td>\n",
       "      <td>10.36</td>\n",
       "      <td>fog</td>\n",
       "      <td>0.36</td>\n",
       "      <td>0.94</td>\n",
       "    </tr>\n",
       "  </tbody>\n",
       "</table>\n",
       "</div>"
      ],
      "text/plain": [
       "   Unnamed: 0         day      LCLid  energy_sum  energy_mean  energy_max  \\\n",
       "0           0  2011-11-23  MAC000149       2.287     0.081679       0.198   \n",
       "1           1  2011-11-23  MAC000154       5.798     0.252087       0.999   \n",
       "2           2  2011-11-23  MAC000156       6.523     0.296500       0.512   \n",
       "3           3  2011-11-23  MAC000150       9.254     0.330500       1.162   \n",
       "4           4  2011-11-23  MAC000147       3.036     0.108429       0.315   \n",
       "\n",
       "   energy_min  energy_std  energy_count  dayTime  visibility  temperatureMin  \\\n",
       "0       0.000    0.052851            28     8.52        8.06            3.81   \n",
       "1       0.098    0.219155            23     8.52        8.06            3.81   \n",
       "2       0.162    0.108046            22     8.52        8.06            3.81   \n",
       "3       0.059    0.313498            28     8.52        8.06            3.81   \n",
       "4       0.033    0.071653            28     8.52        8.06            3.81   \n",
       "\n",
       "   temperatureMax icon  cloudCover  moonPhase  \n",
       "0           10.36  fog        0.36       0.94  \n",
       "1           10.36  fog        0.36       0.94  \n",
       "2           10.36  fog        0.36       0.94  \n",
       "3           10.36  fog        0.36       0.94  \n",
       "4           10.36  fog        0.36       0.94  "
      ]
     },
     "execution_count": 64,
     "metadata": {},
     "output_type": "execute_result"
    }
   ],
   "source": [
    "df_merged.head()"
   ]
  },
  {
   "cell_type": "code",
   "execution_count": 65,
   "metadata": {},
   "outputs": [],
   "source": [
    "df_merged = df_merged.drop(columns = ['energy_mean',\n",
    "                                        'energy_max',   \n",
    "                                        'energy_min',      \n",
    "                                        'energy_std',     \n",
    "                                        'energy_count'\n",
    "                                     ])"
   ]
  },
  {
   "cell_type": "code",
   "execution_count": 66,
   "metadata": {},
   "outputs": [],
   "source": [
    "df_merged = (df_merged.groupby(['day'])\n",
    "            .mean()\n",
    "            .sort_values('day')\n",
    "            .reset_index()\n",
    "            .drop(columns = ['Unnamed: 0'])\n",
    "            )"
   ]
  },
  {
   "cell_type": "code",
   "execution_count": 67,
   "metadata": {},
   "outputs": [
    {
     "data": {
      "text/html": [
       "<div>\n",
       "<style scoped>\n",
       "    .dataframe tbody tr th:only-of-type {\n",
       "        vertical-align: middle;\n",
       "    }\n",
       "\n",
       "    .dataframe tbody tr th {\n",
       "        vertical-align: top;\n",
       "    }\n",
       "\n",
       "    .dataframe thead th {\n",
       "        text-align: right;\n",
       "    }\n",
       "</style>\n",
       "<table border=\"1\" class=\"dataframe\">\n",
       "  <thead>\n",
       "    <tr style=\"text-align: right;\">\n",
       "      <th></th>\n",
       "      <th>day</th>\n",
       "      <th>energy_sum</th>\n",
       "      <th>dayTime</th>\n",
       "      <th>visibility</th>\n",
       "      <th>temperatureMin</th>\n",
       "      <th>temperatureMax</th>\n",
       "      <th>cloudCover</th>\n",
       "      <th>moonPhase</th>\n",
       "    </tr>\n",
       "  </thead>\n",
       "  <tbody>\n",
       "    <tr>\n",
       "      <th>0</th>\n",
       "      <td>2011-11-23</td>\n",
       "      <td>6.952692</td>\n",
       "      <td>8.520000</td>\n",
       "      <td>8.06</td>\n",
       "      <td>3.81</td>\n",
       "      <td>10.36</td>\n",
       "      <td>0.36</td>\n",
       "      <td>0.94</td>\n",
       "    </tr>\n",
       "    <tr>\n",
       "      <th>1</th>\n",
       "      <td>2011-11-24</td>\n",
       "      <td>8.536480</td>\n",
       "      <td>8.476111</td>\n",
       "      <td>10.64</td>\n",
       "      <td>8.56</td>\n",
       "      <td>12.93</td>\n",
       "      <td>0.41</td>\n",
       "      <td>0.97</td>\n",
       "    </tr>\n",
       "    <tr>\n",
       "      <th>2</th>\n",
       "      <td>2011-11-25</td>\n",
       "      <td>9.499781</td>\n",
       "      <td>8.433333</td>\n",
       "      <td>12.38</td>\n",
       "      <td>7.46</td>\n",
       "      <td>13.03</td>\n",
       "      <td>0.48</td>\n",
       "      <td>0.01</td>\n",
       "    </tr>\n",
       "    <tr>\n",
       "      <th>3</th>\n",
       "      <td>2011-11-26</td>\n",
       "      <td>10.267707</td>\n",
       "      <td>8.391944</td>\n",
       "      <td>13.07</td>\n",
       "      <td>7.01</td>\n",
       "      <td>12.96</td>\n",
       "      <td>0.44</td>\n",
       "      <td>0.05</td>\n",
       "    </tr>\n",
       "    <tr>\n",
       "      <th>4</th>\n",
       "      <td>2011-11-27</td>\n",
       "      <td>10.850805</td>\n",
       "      <td>8.351667</td>\n",
       "      <td>13.08</td>\n",
       "      <td>4.47</td>\n",
       "      <td>13.54</td>\n",
       "      <td>0.42</td>\n",
       "      <td>0.08</td>\n",
       "    </tr>\n",
       "  </tbody>\n",
       "</table>\n",
       "</div>"
      ],
      "text/plain": [
       "          day  energy_sum   dayTime  visibility  temperatureMin  \\\n",
       "0  2011-11-23    6.952692  8.520000        8.06            3.81   \n",
       "1  2011-11-24    8.536480  8.476111       10.64            8.56   \n",
       "2  2011-11-25    9.499781  8.433333       12.38            7.46   \n",
       "3  2011-11-26   10.267707  8.391944       13.07            7.01   \n",
       "4  2011-11-27   10.850805  8.351667       13.08            4.47   \n",
       "\n",
       "   temperatureMax  cloudCover  moonPhase  \n",
       "0           10.36        0.36       0.94  \n",
       "1           12.93        0.41       0.97  \n",
       "2           13.03        0.48       0.01  \n",
       "3           12.96        0.44       0.05  \n",
       "4           13.54        0.42       0.08  "
      ]
     },
     "execution_count": 67,
     "metadata": {},
     "output_type": "execute_result"
    }
   ],
   "source": [
    "df_merged.head()"
   ]
  },
  {
   "cell_type": "code",
   "execution_count": 68,
   "metadata": {},
   "outputs": [
    {
     "data": {
      "text/html": [
       "<div>\n",
       "<style scoped>\n",
       "    .dataframe tbody tr th:only-of-type {\n",
       "        vertical-align: middle;\n",
       "    }\n",
       "\n",
       "    .dataframe tbody tr th {\n",
       "        vertical-align: top;\n",
       "    }\n",
       "\n",
       "    .dataframe thead th {\n",
       "        text-align: right;\n",
       "    }\n",
       "</style>\n",
       "<table border=\"1\" class=\"dataframe\">\n",
       "  <thead>\n",
       "    <tr style=\"text-align: right;\">\n",
       "      <th></th>\n",
       "      <th>energy_sum</th>\n",
       "      <th>dayTime</th>\n",
       "      <th>visibility</th>\n",
       "      <th>temperatureMin</th>\n",
       "      <th>temperatureMax</th>\n",
       "      <th>cloudCover</th>\n",
       "      <th>moonPhase</th>\n",
       "    </tr>\n",
       "  </thead>\n",
       "  <tbody>\n",
       "    <tr>\n",
       "      <th>energy_sum</th>\n",
       "      <td>1.000000</td>\n",
       "      <td>-0.768339</td>\n",
       "      <td>-0.245011</td>\n",
       "      <td>-0.804079</td>\n",
       "      <td>-0.843281</td>\n",
       "      <td>0.240353</td>\n",
       "      <td>-0.033909</td>\n",
       "    </tr>\n",
       "    <tr>\n",
       "      <th>dayTime</th>\n",
       "      <td>-0.768339</td>\n",
       "      <td>1.000000</td>\n",
       "      <td>0.198165</td>\n",
       "      <td>0.632180</td>\n",
       "      <td>0.694892</td>\n",
       "      <td>-0.129595</td>\n",
       "      <td>0.019402</td>\n",
       "    </tr>\n",
       "    <tr>\n",
       "      <th>visibility</th>\n",
       "      <td>-0.245011</td>\n",
       "      <td>0.198165</td>\n",
       "      <td>1.000000</td>\n",
       "      <td>0.191942</td>\n",
       "      <td>0.261507</td>\n",
       "      <td>-0.332863</td>\n",
       "      <td>0.061707</td>\n",
       "    </tr>\n",
       "    <tr>\n",
       "      <th>temperatureMin</th>\n",
       "      <td>-0.804079</td>\n",
       "      <td>0.632180</td>\n",
       "      <td>0.191942</td>\n",
       "      <td>1.000000</td>\n",
       "      <td>0.896142</td>\n",
       "      <td>-0.062109</td>\n",
       "      <td>-0.013204</td>\n",
       "    </tr>\n",
       "    <tr>\n",
       "      <th>temperatureMax</th>\n",
       "      <td>-0.843281</td>\n",
       "      <td>0.694892</td>\n",
       "      <td>0.261507</td>\n",
       "      <td>0.896142</td>\n",
       "      <td>1.000000</td>\n",
       "      <td>-0.333338</td>\n",
       "      <td>0.005851</td>\n",
       "    </tr>\n",
       "    <tr>\n",
       "      <th>cloudCover</th>\n",
       "      <td>0.240353</td>\n",
       "      <td>-0.129595</td>\n",
       "      <td>-0.332863</td>\n",
       "      <td>-0.062109</td>\n",
       "      <td>-0.333338</td>\n",
       "      <td>1.000000</td>\n",
       "      <td>-0.064122</td>\n",
       "    </tr>\n",
       "    <tr>\n",
       "      <th>moonPhase</th>\n",
       "      <td>-0.033909</td>\n",
       "      <td>0.019402</td>\n",
       "      <td>0.061707</td>\n",
       "      <td>-0.013204</td>\n",
       "      <td>0.005851</td>\n",
       "      <td>-0.064122</td>\n",
       "      <td>1.000000</td>\n",
       "    </tr>\n",
       "  </tbody>\n",
       "</table>\n",
       "</div>"
      ],
      "text/plain": [
       "                energy_sum   dayTime  visibility  temperatureMin  \\\n",
       "energy_sum        1.000000 -0.768339   -0.245011       -0.804079   \n",
       "dayTime          -0.768339  1.000000    0.198165        0.632180   \n",
       "visibility       -0.245011  0.198165    1.000000        0.191942   \n",
       "temperatureMin   -0.804079  0.632180    0.191942        1.000000   \n",
       "temperatureMax   -0.843281  0.694892    0.261507        0.896142   \n",
       "cloudCover        0.240353 -0.129595   -0.332863       -0.062109   \n",
       "moonPhase        -0.033909  0.019402    0.061707       -0.013204   \n",
       "\n",
       "                temperatureMax  cloudCover  moonPhase  \n",
       "energy_sum           -0.843281    0.240353  -0.033909  \n",
       "dayTime               0.694892   -0.129595   0.019402  \n",
       "visibility            0.261507   -0.332863   0.061707  \n",
       "temperatureMin        0.896142   -0.062109  -0.013204  \n",
       "temperatureMax        1.000000   -0.333338   0.005851  \n",
       "cloudCover           -0.333338    1.000000  -0.064122  \n",
       "moonPhase             0.005851   -0.064122   1.000000  "
      ]
     },
     "execution_count": 68,
     "metadata": {},
     "output_type": "execute_result"
    }
   ],
   "source": [
    "df_merged.corr()"
   ]
  },
  {
   "cell_type": "code",
   "execution_count": 69,
   "metadata": {},
   "outputs": [
    {
     "data": {
      "text/plain": [
       "energy_sum        1.000000\n",
       "dayTime          -0.768339\n",
       "visibility       -0.245011\n",
       "temperatureMin   -0.804079\n",
       "temperatureMax   -0.843281\n",
       "cloudCover        0.240353\n",
       "moonPhase        -0.033909\n",
       "Name: energy_sum, dtype: float64"
      ]
     },
     "execution_count": 69,
     "metadata": {},
     "output_type": "execute_result"
    }
   ],
   "source": [
    "df_merged.corr()['energy_sum']"
   ]
  },
  {
   "cell_type": "code",
   "execution_count": 70,
   "metadata": {},
   "outputs": [
    {
     "data": {
      "text/plain": [
       "<matplotlib.collections.PathCollection at 0x259b1f89780>"
      ]
     },
     "execution_count": 70,
     "metadata": {},
     "output_type": "execute_result"
    },
    {
     "data": {
      "image/png": "[encoded data removed]",
      "text/plain": [
       "<Figure size 720x504 with 1 Axes>"
      ]
     },
     "metadata": {
      "needs_background": "light"
     },
     "output_type": "display_data"
    }
   ],
   "source": [
    "plt.figure(figsize=(10,7))\n",
    "plt.scatter(df_merged[[\"temperatureMin\"]], df_merged[[\"energy_sum\"]])"
   ]
  },
  {
   "cell_type": "code",
   "execution_count": 71,
   "metadata": {},
   "outputs": [
    {
     "data": {
      "text/html": [
       "<div>\n",
       "<style scoped>\n",
       "    .dataframe tbody tr th:only-of-type {\n",
       "        vertical-align: middle;\n",
       "    }\n",
       "\n",
       "    .dataframe tbody tr th {\n",
       "        vertical-align: top;\n",
       "    }\n",
       "\n",
       "    .dataframe thead th {\n",
       "        text-align: right;\n",
       "    }\n",
       "</style>\n",
       "<table border=\"1\" class=\"dataframe\">\n",
       "  <thead>\n",
       "    <tr style=\"text-align: right;\">\n",
       "      <th></th>\n",
       "      <th>day</th>\n",
       "      <th>energy_sum</th>\n",
       "      <th>dayTime</th>\n",
       "      <th>visibility</th>\n",
       "      <th>temperatureMin</th>\n",
       "      <th>temperatureMax</th>\n",
       "      <th>cloudCover</th>\n",
       "      <th>moonPhase</th>\n",
       "    </tr>\n",
       "  </thead>\n",
       "  <tbody>\n",
       "    <tr>\n",
       "      <th>826</th>\n",
       "      <td>2014-02-28</td>\n",
       "      <td>0.208997</td>\n",
       "      <td>10.829167</td>\n",
       "      <td>10.8</td>\n",
       "      <td>3.43</td>\n",
       "      <td>7.35</td>\n",
       "      <td>0.67</td>\n",
       "      <td>0.97</td>\n",
       "    </tr>\n",
       "  </tbody>\n",
       "</table>\n",
       "</div>"
      ],
      "text/plain": [
       "            day  energy_sum    dayTime  visibility  temperatureMin  \\\n",
       "826  2014-02-28    0.208997  10.829167        10.8            3.43   \n",
       "\n",
       "     temperatureMax  cloudCover  moonPhase  \n",
       "826            7.35        0.67       0.97  "
      ]
     },
     "execution_count": 71,
     "metadata": {},
     "output_type": "execute_result"
    }
   ],
   "source": [
    "df_merged.loc[df_merged[\"energy_sum\"] < 2]"
   ]
  },
  {
   "cell_type": "code",
   "execution_count": 72,
   "metadata": {},
   "outputs": [],
   "source": [
    "df_merged.drop(index = 826, inplace = True)"
   ]
  },
  {
   "cell_type": "code",
   "execution_count": 73,
   "metadata": {},
   "outputs": [
    {
     "data": {
      "text/plain": [
       "<matplotlib.collections.PathCollection at 0x259ac926470>"
      ]
     },
     "execution_count": 73,
     "metadata": {},
     "output_type": "execute_result"
    },
    {
     "data": {
      "image/png": "[encoded data removed]",
      "text/plain": [
       "<Figure size 720x504 with 1 Axes>"
      ]
     },
     "metadata": {
      "needs_background": "light"
     },
     "output_type": "display_data"
    }
   ],
   "source": [
    "plt.figure(figsize=(10,7))\n",
    "plt.scatter(df_merged[[\"temperatureMin\"]], df_merged[[\"energy_sum\"]])"
   ]
  },
  {
   "cell_type": "code",
   "execution_count": 74,
   "metadata": {},
   "outputs": [
    {
     "data": {
      "text/plain": [
       "LinearRegression()"
      ]
     },
     "execution_count": 74,
     "metadata": {},
     "output_type": "execute_result"
    }
   ],
   "source": [
    "regressor1 = LinearRegression()\n",
    "regressor1.fit(df_merged[[\"temperatureMin\"]], df_merged[[\"energy_sum\"]])"
   ]
  },
  {
   "cell_type": "code",
   "execution_count": 93,
   "metadata": {},
   "outputs": [
    {
     "data": {
      "text/plain": [
       "[<matplotlib.lines.Line2D at 0x259b0006080>]"
      ]
     },
     "execution_count": 93,
     "metadata": {},
     "output_type": "execute_result"
    },
    {
     "data": {
      "image/png": "[encoded data removed]",
      "text/plain": [
       "<Figure size 720x504 with 1 Axes>"
      ]
     },
     "metadata": {
      "needs_background": "light"
     },
     "output_type": "display_data"
    }
   ],
   "source": [
    "plt.figure(figsize=(10,7))\n",
    "plt.scatter(df_merged[[\"temperatureMin\"]], df_merged[[\"energy_sum\"]])\n",
    "plt.xlabel(\"Minimum Temperature\")\n",
    "plt.ylabel(\"Energy consumption sum\")\n",
    "plt.plot(df_merged[[\"temperatureMin\"]], regressor1.predict(df_merged[[\"temperatureMin\"]]))"
   ]
  },
  {
   "cell_type": "code",
   "execution_count": 101,
   "metadata": {},
   "outputs": [
    {
     "name": "stdout",
     "output_type": "stream",
     "text": [
      "[[6.21668318]\n",
      " [5.90975512]\n",
      " [5.60282707]\n",
      " [5.29589901]\n",
      " [4.98897095]\n",
      " [4.68204289]\n",
      " [4.37511483]\n",
      " [4.06818677]\n",
      " [3.76125871]\n",
      " [3.45433065]\n",
      " [3.14740259]\n",
      " [2.84047453]\n",
      " [2.53354647]\n",
      " [2.22661842]\n",
      " [1.91969036]]\n"
     ]
    }
   ],
   "source": [
    "future_predict = np.array(range(21, 36))\n",
    "future_predict = future_predict.reshape(-1, 1)\n",
    "future = regressor1.predict(future_predict)\n",
    "print(future)"
   ]
  },
  {
   "cell_type": "code",
   "execution_count": 102,
   "metadata": {},
   "outputs": [
    {
     "data": {
      "text/plain": [
       "[<matplotlib.lines.Line2D at 0x259affb11d0>]"
      ]
     },
     "execution_count": 102,
     "metadata": {},
     "output_type": "execute_result"
    },
    {
     "data": {
      "image/png": "[encoded data removed]",
      "text/plain": [
       "<Figure size 1008x504 with 1 Axes>"
      ]
     },
     "metadata": {
      "needs_background": "light"
     },
     "output_type": "display_data"
    }
   ],
   "source": [
    "plt.figure(figsize=(14,7))\n",
    "plt.scatter(df_merged[[\"temperatureMin\"]], df_merged[[\"energy_sum\"]])\n",
    "plt.xlabel(\"Minimum Temperature\")\n",
    "plt.ylabel(\"Energy consumption sum\")\n",
    "plt.plot(df_merged[[\"temperatureMin\"]], regressor1.predict(df_merged[[\"temperatureMin\"]]))\n",
    "plt.plot(future_predict, future, color=\"r\")"
   ]
  },
  {
   "cell_type": "code",
   "execution_count": 95,
   "metadata": {},
   "outputs": [
    {
     "name": "stdout",
     "output_type": "stream",
     "text": [
      "[[6.21668318]\n",
      " [5.90975512]\n",
      " [5.60282707]\n",
      " [5.29589901]\n",
      " [4.98897095]\n",
      " [4.68204289]\n",
      " [4.37511483]\n",
      " [4.06818677]\n",
      " [3.76125871]\n",
      " [3.45433065]\n",
      " [3.14740259]\n",
      " [2.84047453]\n",
      " [2.53354647]\n",
      " [2.22661842]]\n"
     ]
    }
   ],
   "source": [
    "future = regressor1.predict(future_predict)\n",
    "print(future)"
   ]
  },
  {
   "cell_type": "code",
   "execution_count": 76,
   "metadata": {},
   "outputs": [
    {
     "name": "stdout",
     "output_type": "stream",
     "text": [
      "0.6793836000812431\n",
      "[12.66217242]\n",
      "[[-0.30692806]]\n"
     ]
    }
   ],
   "source": [
    "print(regressor1.score(df_merged[[\"temperatureMin\"]], df_merged[[\"energy_sum\"]]))\n",
    "print(regressor1.intercept_)\n",
    "print(regressor1.coef_)"
   ]
  },
  {
   "cell_type": "code",
   "execution_count": 82,
   "metadata": {},
   "outputs": [
    {
     "data": {
      "text/html": [
       "<div>\n",
       "<style scoped>\n",
       "    .dataframe tbody tr th:only-of-type {\n",
       "        vertical-align: middle;\n",
       "    }\n",
       "\n",
       "    .dataframe tbody tr th {\n",
       "        vertical-align: top;\n",
       "    }\n",
       "\n",
       "    .dataframe thead th {\n",
       "        text-align: right;\n",
       "    }\n",
       "</style>\n",
       "<table border=\"1\" class=\"dataframe\">\n",
       "  <thead>\n",
       "    <tr style=\"text-align: right;\">\n",
       "      <th></th>\n",
       "      <th>const</th>\n",
       "      <th>day</th>\n",
       "      <th>energy_sum</th>\n",
       "      <th>dayTime</th>\n",
       "      <th>visibility</th>\n",
       "      <th>temperatureMin</th>\n",
       "      <th>temperatureMax</th>\n",
       "      <th>cloudCover</th>\n",
       "      <th>moonPhase</th>\n",
       "    </tr>\n",
       "  </thead>\n",
       "  <tbody>\n",
       "    <tr>\n",
       "      <th>268</th>\n",
       "      <td>1.0</td>\n",
       "      <td>2012-08-17</td>\n",
       "      <td>7.773145</td>\n",
       "      <td>14.432222</td>\n",
       "      <td>12.87</td>\n",
       "      <td>20.54</td>\n",
       "      <td>29.86</td>\n",
       "      <td>0.23</td>\n",
       "      <td>0.03</td>\n",
       "    </tr>\n",
       "  </tbody>\n",
       "</table>\n",
       "</div>"
      ],
      "text/plain": [
       "     const         day  energy_sum    dayTime  visibility  temperatureMin  \\\n",
       "268    1.0  2012-08-17    7.773145  14.432222       12.87           20.54   \n",
       "\n",
       "     temperatureMax  cloudCover  moonPhase  \n",
       "268           29.86        0.23       0.03  "
      ]
     },
     "execution_count": 82,
     "metadata": {},
     "output_type": "execute_result"
    }
   ],
   "source": [
    "df_merged.loc[df_merged[\"temperatureMin\"] > 20]"
   ]
  },
  {
   "cell_type": "code",
   "execution_count": 90,
   "metadata": {},
   "outputs": [],
   "source": [
    "future_predict = np.array(range(21, 35))\n",
    "future_predict = future_predict.reshape(-1, 1)"
   ]
  },
  {
   "cell_type": "code",
   "execution_count": 91,
   "metadata": {},
   "outputs": [],
   "source": [
    "future = regressor1.predict(future_predict)"
   ]
  },
  {
   "cell_type": "code",
   "execution_count": null,
   "metadata": {},
   "outputs": [],
   "source": []
  },
  {
   "cell_type": "code",
   "execution_count": null,
   "metadata": {},
   "outputs": [],
   "source": []
  },
  {
   "cell_type": "code",
   "execution_count": null,
   "metadata": {},
   "outputs": [],
   "source": []
  },
  {
   "cell_type": "code",
   "execution_count": 77,
   "metadata": {},
   "outputs": [
    {
     "data": {
      "text/plain": [
       "LinearRegression()"
      ]
     },
     "execution_count": 77,
     "metadata": {},
     "output_type": "execute_result"
    }
   ],
   "source": [
    "regressor2 = LinearRegression()\n",
    "regressor2.fit(df_merged[[\"dayTime\"]], df_merged[[\"energy_sum\"]])"
   ]
  },
  {
   "cell_type": "code",
   "execution_count": 78,
   "metadata": {},
   "outputs": [
    {
     "data": {
      "text/plain": [
       "[<matplotlib.lines.Line2D at 0x259ac9506d8>]"
      ]
     },
     "execution_count": 78,
     "metadata": {},
     "output_type": "execute_result"
    },
    {
     "data": {
      "image/png": "[encoded data removed]",
      "text/plain": [
       "<Figure size 936x504 with 1 Axes>"
      ]
     },
     "metadata": {
      "needs_background": "light"
     },
     "output_type": "display_data"
    }
   ],
   "source": [
    "plt.figure(figsize=(13,7))\n",
    "plt.scatter(df_merged[[\"dayTime\"]], df_merged[[\"energy_sum\"]])\n",
    "plt.plot(df_merged[[\"dayTime\"]], regressor2.predict(df_merged[[\"dayTime\"]]))"
   ]
  },
  {
   "cell_type": "code",
   "execution_count": 79,
   "metadata": {},
   "outputs": [
    {
     "name": "stdout",
     "output_type": "stream",
     "text": [
      "0.6153025084750338\n",
      "[15.98837794]\n",
      "[[-0.47433065]]\n"
     ]
    }
   ],
   "source": [
    "print(regressor2.score(df_merged[[\"dayTime\"]], df_merged[[\"energy_sum\"]]))\n",
    "print(regressor2.intercept_)\n",
    "print(regressor2.coef_)"
   ]
  },
  {
   "cell_type": "code",
   "execution_count": 80,
   "metadata": {},
   "outputs": [
    {
     "data": {
      "text/html": [
       "<table class=\"simpletable\">\n",
       "<caption>OLS Regression Results</caption>\n",
       "<tr>\n",
       "  <th>Dep. Variable:</th>       <td>energy_sum</td>    <th>  R-squared:         </th> <td>   0.795</td> \n",
       "</tr>\n",
       "<tr>\n",
       "  <th>Model:</th>                   <td>OLS</td>       <th>  Adj. R-squared:    </th> <td>   0.794</td> \n",
       "</tr>\n",
       "<tr>\n",
       "  <th>Method:</th>             <td>Least Squares</td>  <th>  F-statistic:       </th> <td>   1595.</td> \n",
       "</tr>\n",
       "<tr>\n",
       "  <th>Date:</th>             <td>Tue, 15 Sep 2020</td> <th>  Prob (F-statistic):</th> <td>7.31e-284</td>\n",
       "</tr>\n",
       "<tr>\n",
       "  <th>Time:</th>                 <td>20:17:17</td>     <th>  Log-Likelihood:    </th> <td> -1027.8</td> \n",
       "</tr>\n",
       "<tr>\n",
       "  <th>No. Observations:</th>      <td>   826</td>      <th>  AIC:               </th> <td>   2062.</td> \n",
       "</tr>\n",
       "<tr>\n",
       "  <th>Df Residuals:</th>          <td>   823</td>      <th>  BIC:               </th> <td>   2076.</td> \n",
       "</tr>\n",
       "<tr>\n",
       "  <th>Df Model:</th>              <td>     2</td>      <th>                     </th>     <td> </td>    \n",
       "</tr>\n",
       "<tr>\n",
       "  <th>Covariance Type:</th>      <td>nonrobust</td>    <th>                     </th>     <td> </td>    \n",
       "</tr>\n",
       "</table>\n",
       "<table class=\"simpletable\">\n",
       "<tr>\n",
       "         <td></td>           <th>coef</th>     <th>std err</th>      <th>t</th>      <th>P>|t|</th>  <th>[0.025</th>    <th>0.975]</th>  \n",
       "</tr>\n",
       "<tr>\n",
       "  <th>const</th>          <td>   15.0332</td> <td>    0.122</td> <td>  123.109</td> <td> 0.000</td> <td>   14.793</td> <td>   15.273</td>\n",
       "</tr>\n",
       "<tr>\n",
       "  <th>dayTime</th>        <td>   -0.2653</td> <td>    0.012</td> <td>  -21.531</td> <td> 0.000</td> <td>   -0.289</td> <td>   -0.241</td>\n",
       "</tr>\n",
       "<tr>\n",
       "  <th>temperatureMin</th> <td>   -0.2037</td> <td>    0.008</td> <td>  -26.847</td> <td> 0.000</td> <td>   -0.219</td> <td>   -0.189</td>\n",
       "</tr>\n",
       "</table>\n",
       "<table class=\"simpletable\">\n",
       "<tr>\n",
       "  <th>Omnibus:</th>       <td>43.444</td> <th>  Durbin-Watson:     </th> <td>   0.612</td>\n",
       "</tr>\n",
       "<tr>\n",
       "  <th>Prob(Omnibus):</th> <td> 0.000</td> <th>  Jarque-Bera (JB):  </th> <td> 141.613</td>\n",
       "</tr>\n",
       "<tr>\n",
       "  <th>Skew:</th>          <td>-0.097</td> <th>  Prob(JB):          </th> <td>1.77e-31</td>\n",
       "</tr>\n",
       "<tr>\n",
       "  <th>Kurtosis:</th>      <td> 5.019</td> <th>  Cond. No.          </th> <td>    62.2</td>\n",
       "</tr>\n",
       "</table><br/><br/>Warnings:<br/>[1] Standard Errors assume that the covariance matrix of the errors is correctly specified."
      ],
      "text/plain": [
       "<class 'statsmodels.iolib.summary.Summary'>\n",
       "\"\"\"\n",
       "                            OLS Regression Results                            \n",
       "==============================================================================\n",
       "Dep. Variable:             energy_sum   R-squared:                       0.795\n",
       "Model:                            OLS   Adj. R-squared:                  0.794\n",
       "Method:                 Least Squares   F-statistic:                     1595.\n",
       "Date:                Tue, 15 Sep 2020   Prob (F-statistic):          7.31e-284\n",
       "Time:                        20:17:17   Log-Likelihood:                -1027.8\n",
       "No. Observations:                 826   AIC:                             2062.\n",
       "Df Residuals:                     823   BIC:                             2076.\n",
       "Df Model:                           2                                         \n",
       "Covariance Type:            nonrobust                                         \n",
       "==================================================================================\n",
       "                     coef    std err          t      P>|t|      [0.025      0.975]\n",
       "----------------------------------------------------------------------------------\n",
       "const             15.0332      0.122    123.109      0.000      14.793      15.273\n",
       "dayTime           -0.2653      0.012    -21.531      0.000      -0.289      -0.241\n",
       "temperatureMin    -0.2037      0.008    -26.847      0.000      -0.219      -0.189\n",
       "==============================================================================\n",
       "Omnibus:                       43.444   Durbin-Watson:                   0.612\n",
       "Prob(Omnibus):                  0.000   Jarque-Bera (JB):              141.613\n",
       "Skew:                          -0.097   Prob(JB):                     1.77e-31\n",
       "Kurtosis:                       5.019   Cond. No.                         62.2\n",
       "==============================================================================\n",
       "\n",
       "Warnings:\n",
       "[1] Standard Errors assume that the covariance matrix of the errors is correctly specified.\n",
       "\"\"\""
      ]
     },
     "execution_count": 80,
     "metadata": {},
     "output_type": "execute_result"
    }
   ],
   "source": [
    "df_merged = sm.add_constant(df_merged)\n",
    "df_merged_y = df_merged[\"energy_sum\"]\n",
    "df_merged_x = df_merged[['const','dayTime', 'temperatureMin']]\n",
    "df_merged_ols = sm.OLS(df_merged_y, df_merged_x).fit()\n",
    "df_merged_ols.summary()"
   ]
  },
  {
   "cell_type": "code",
   "execution_count": null,
   "metadata": {},
   "outputs": [],
   "source": []
  }
 ],
 "metadata": {
  "kernelspec": {
   "display_name": "Python 3",
   "language": "python",
   "name": "python3"
  },
  "language_info": {
   "codemirror_mode": {
    "name": "ipython",
    "version": 3
   },
   "file_extension": ".py",
   "mimetype": "text/x-python",
   "name": "python",
   "nbconvert_exporter": "python",
   "pygments_lexer": "ipython3",
   "version": "3.7.1"
  }
 },
 "nbformat": 4,
 "nbformat_minor": 4
}
