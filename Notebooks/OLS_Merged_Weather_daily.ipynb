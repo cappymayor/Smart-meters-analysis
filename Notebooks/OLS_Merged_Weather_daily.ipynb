{
 "cells": [
  {
   "cell_type": "code",
   "execution_count": 63,
   "metadata": {},
   "outputs": [],
   "source": [
    "import pandas as pd\n",
    "import numpy as np\n",
    "import statsmodels.api as sm \n",
    "import matplotlib.pyplot as plt   \n",
    "from sklearn.linear_model import LinearRegression\n",
    "from sklearn import metrics"
   ]
  },
  {
   "cell_type": "code",
   "execution_count": 64,
   "metadata": {},
   "outputs": [],
   "source": [
    "df_merged = pd.read_csv(\"../Data/daily_weather_merged.csv\")"
   ]
  },
  {
   "cell_type": "code",
   "execution_count": 65,
   "metadata": {},
   "outputs": [],
   "source": [
    "df_merged = df_merged.drop(columns = ['energy_mean',\n",
    "                                        'energy_max',   \n",
    "                                        'energy_min',      \n",
    "                                        'energy_std',     \n",
    "                                        'energy_count'\n",
    "                                     ])"
   ]
  },
  {
   "cell_type": "code",
   "execution_count": 66,
   "metadata": {},
   "outputs": [
    {
     "data": {
      "text/html": [
       "<div>\n",
       "<style scoped>\n",
       "    .dataframe tbody tr th:only-of-type {\n",
       "        vertical-align: middle;\n",
       "    }\n",
       "\n",
       "    .dataframe tbody tr th {\n",
       "        vertical-align: top;\n",
       "    }\n",
       "\n",
       "    .dataframe thead th {\n",
       "        text-align: right;\n",
       "    }\n",
       "</style>\n",
       "<table border=\"1\" class=\"dataframe\">\n",
       "  <thead>\n",
       "    <tr style=\"text-align: right;\">\n",
       "      <th></th>\n",
       "      <th>Unnamed: 0</th>\n",
       "      <th>day</th>\n",
       "      <th>LCLid</th>\n",
       "      <th>energy_sum</th>\n",
       "      <th>dayTime</th>\n",
       "      <th>visibility</th>\n",
       "      <th>temperatureMin</th>\n",
       "      <th>temperatureMax</th>\n",
       "      <th>icon</th>\n",
       "      <th>cloudCover</th>\n",
       "      <th>moonPhase</th>\n",
       "    </tr>\n",
       "  </thead>\n",
       "  <tbody>\n",
       "    <tr>\n",
       "      <th>0</th>\n",
       "      <td>0</td>\n",
       "      <td>2011-11-23</td>\n",
       "      <td>MAC000149</td>\n",
       "      <td>2.287</td>\n",
       "      <td>8.52</td>\n",
       "      <td>8.06</td>\n",
       "      <td>3.81</td>\n",
       "      <td>10.36</td>\n",
       "      <td>fog</td>\n",
       "      <td>0.36</td>\n",
       "      <td>0.94</td>\n",
       "    </tr>\n",
       "    <tr>\n",
       "      <th>1</th>\n",
       "      <td>1</td>\n",
       "      <td>2011-11-23</td>\n",
       "      <td>MAC000154</td>\n",
       "      <td>5.798</td>\n",
       "      <td>8.52</td>\n",
       "      <td>8.06</td>\n",
       "      <td>3.81</td>\n",
       "      <td>10.36</td>\n",
       "      <td>fog</td>\n",
       "      <td>0.36</td>\n",
       "      <td>0.94</td>\n",
       "    </tr>\n",
       "    <tr>\n",
       "      <th>2</th>\n",
       "      <td>2</td>\n",
       "      <td>2011-11-23</td>\n",
       "      <td>MAC000156</td>\n",
       "      <td>6.523</td>\n",
       "      <td>8.52</td>\n",
       "      <td>8.06</td>\n",
       "      <td>3.81</td>\n",
       "      <td>10.36</td>\n",
       "      <td>fog</td>\n",
       "      <td>0.36</td>\n",
       "      <td>0.94</td>\n",
       "    </tr>\n",
       "    <tr>\n",
       "      <th>3</th>\n",
       "      <td>3</td>\n",
       "      <td>2011-11-23</td>\n",
       "      <td>MAC000150</td>\n",
       "      <td>9.254</td>\n",
       "      <td>8.52</td>\n",
       "      <td>8.06</td>\n",
       "      <td>3.81</td>\n",
       "      <td>10.36</td>\n",
       "      <td>fog</td>\n",
       "      <td>0.36</td>\n",
       "      <td>0.94</td>\n",
       "    </tr>\n",
       "    <tr>\n",
       "      <th>4</th>\n",
       "      <td>4</td>\n",
       "      <td>2011-11-23</td>\n",
       "      <td>MAC000147</td>\n",
       "      <td>3.036</td>\n",
       "      <td>8.52</td>\n",
       "      <td>8.06</td>\n",
       "      <td>3.81</td>\n",
       "      <td>10.36</td>\n",
       "      <td>fog</td>\n",
       "      <td>0.36</td>\n",
       "      <td>0.94</td>\n",
       "    </tr>\n",
       "  </tbody>\n",
       "</table>\n",
       "</div>"
      ],
      "text/plain": [
       "   Unnamed: 0         day      LCLid  energy_sum  dayTime  visibility  \\\n",
       "0           0  2011-11-23  MAC000149       2.287     8.52        8.06   \n",
       "1           1  2011-11-23  MAC000154       5.798     8.52        8.06   \n",
       "2           2  2011-11-23  MAC000156       6.523     8.52        8.06   \n",
       "3           3  2011-11-23  MAC000150       9.254     8.52        8.06   \n",
       "4           4  2011-11-23  MAC000147       3.036     8.52        8.06   \n",
       "\n",
       "   temperatureMin  temperatureMax icon  cloudCover  moonPhase  \n",
       "0            3.81           10.36  fog        0.36       0.94  \n",
       "1            3.81           10.36  fog        0.36       0.94  \n",
       "2            3.81           10.36  fog        0.36       0.94  \n",
       "3            3.81           10.36  fog        0.36       0.94  \n",
       "4            3.81           10.36  fog        0.36       0.94  "
      ]
     },
     "execution_count": 66,
     "metadata": {},
     "output_type": "execute_result"
    }
   ],
   "source": [
    "df_merged.head()"
   ]
  },
  {
   "cell_type": "code",
   "execution_count": 67,
   "metadata": {},
   "outputs": [],
   "source": [
    "## df_merged['day'] = pd.to_datetime(df_merged['day']) - pd.to_timedelta(7, unit='d')\n",
    "## df_merged.groupby([pd.Grouper(key='day', freq='W-MON')])\n",
    "df_merged = (df_merged.groupby(['day'])\n",
    "            .mean()\n",
    "            .sort_values('day')\n",
    "            .reset_index()\n",
    "            .drop(columns = ['Unnamed: 0'])\n",
    "            )"
   ]
  },
  {
   "cell_type": "code",
   "execution_count": 68,
   "metadata": {},
   "outputs": [],
   "source": [
    "## Multiplying energy_sum by 7 (7 days in the week) to have the total energy consumption per week and not the average per day that week\n",
    "## df_merged['energy_sum'] = df_merged['energy_sum'] * 7"
   ]
  },
  {
   "cell_type": "code",
   "execution_count": 69,
   "metadata": {},
   "outputs": [
    {
     "data": {
      "text/html": [
       "<div>\n",
       "<style scoped>\n",
       "    .dataframe tbody tr th:only-of-type {\n",
       "        vertical-align: middle;\n",
       "    }\n",
       "\n",
       "    .dataframe tbody tr th {\n",
       "        vertical-align: top;\n",
       "    }\n",
       "\n",
       "    .dataframe thead th {\n",
       "        text-align: right;\n",
       "    }\n",
       "</style>\n",
       "<table border=\"1\" class=\"dataframe\">\n",
       "  <thead>\n",
       "    <tr style=\"text-align: right;\">\n",
       "      <th></th>\n",
       "      <th>day</th>\n",
       "      <th>energy_sum</th>\n",
       "      <th>dayTime</th>\n",
       "      <th>visibility</th>\n",
       "      <th>temperatureMin</th>\n",
       "      <th>temperatureMax</th>\n",
       "      <th>cloudCover</th>\n",
       "      <th>moonPhase</th>\n",
       "    </tr>\n",
       "  </thead>\n",
       "  <tbody>\n",
       "    <tr>\n",
       "      <th>0</th>\n",
       "      <td>2011-11-23</td>\n",
       "      <td>6.952692</td>\n",
       "      <td>8.520000</td>\n",
       "      <td>8.06</td>\n",
       "      <td>3.81</td>\n",
       "      <td>10.36</td>\n",
       "      <td>0.36</td>\n",
       "      <td>0.94</td>\n",
       "    </tr>\n",
       "    <tr>\n",
       "      <th>1</th>\n",
       "      <td>2011-11-24</td>\n",
       "      <td>8.536480</td>\n",
       "      <td>8.476111</td>\n",
       "      <td>10.64</td>\n",
       "      <td>8.56</td>\n",
       "      <td>12.93</td>\n",
       "      <td>0.41</td>\n",
       "      <td>0.97</td>\n",
       "    </tr>\n",
       "    <tr>\n",
       "      <th>2</th>\n",
       "      <td>2011-11-25</td>\n",
       "      <td>9.499781</td>\n",
       "      <td>8.433333</td>\n",
       "      <td>12.38</td>\n",
       "      <td>7.46</td>\n",
       "      <td>13.03</td>\n",
       "      <td>0.48</td>\n",
       "      <td>0.01</td>\n",
       "    </tr>\n",
       "    <tr>\n",
       "      <th>3</th>\n",
       "      <td>2011-11-26</td>\n",
       "      <td>10.267707</td>\n",
       "      <td>8.391944</td>\n",
       "      <td>13.07</td>\n",
       "      <td>7.01</td>\n",
       "      <td>12.96</td>\n",
       "      <td>0.44</td>\n",
       "      <td>0.05</td>\n",
       "    </tr>\n",
       "    <tr>\n",
       "      <th>4</th>\n",
       "      <td>2011-11-27</td>\n",
       "      <td>10.850805</td>\n",
       "      <td>8.351667</td>\n",
       "      <td>13.08</td>\n",
       "      <td>4.47</td>\n",
       "      <td>13.54</td>\n",
       "      <td>0.42</td>\n",
       "      <td>0.08</td>\n",
       "    </tr>\n",
       "    <tr>\n",
       "      <th>...</th>\n",
       "      <td>...</td>\n",
       "      <td>...</td>\n",
       "      <td>...</td>\n",
       "      <td>...</td>\n",
       "      <td>...</td>\n",
       "      <td>...</td>\n",
       "      <td>...</td>\n",
       "      <td>...</td>\n",
       "    </tr>\n",
       "    <tr>\n",
       "      <th>822</th>\n",
       "      <td>2014-02-24</td>\n",
       "      <td>10.411403</td>\n",
       "      <td>10.569444</td>\n",
       "      <td>13.00</td>\n",
       "      <td>7.99</td>\n",
       "      <td>14.23</td>\n",
       "      <td>0.50</td>\n",
       "      <td>0.82</td>\n",
       "    </tr>\n",
       "    <tr>\n",
       "      <th>823</th>\n",
       "      <td>2014-02-25</td>\n",
       "      <td>10.294997</td>\n",
       "      <td>10.634167</td>\n",
       "      <td>12.09</td>\n",
       "      <td>6.79</td>\n",
       "      <td>11.43</td>\n",
       "      <td>0.62</td>\n",
       "      <td>0.86</td>\n",
       "    </tr>\n",
       "    <tr>\n",
       "      <th>824</th>\n",
       "      <td>2014-02-26</td>\n",
       "      <td>10.202945</td>\n",
       "      <td>10.699167</td>\n",
       "      <td>13.00</td>\n",
       "      <td>4.17</td>\n",
       "      <td>11.29</td>\n",
       "      <td>0.26</td>\n",
       "      <td>0.90</td>\n",
       "    </tr>\n",
       "    <tr>\n",
       "      <th>825</th>\n",
       "      <td>2014-02-27</td>\n",
       "      <td>10.356350</td>\n",
       "      <td>10.763889</td>\n",
       "      <td>12.04</td>\n",
       "      <td>3.93</td>\n",
       "      <td>10.31</td>\n",
       "      <td>0.32</td>\n",
       "      <td>0.93</td>\n",
       "    </tr>\n",
       "    <tr>\n",
       "      <th>826</th>\n",
       "      <td>2014-02-28</td>\n",
       "      <td>0.208997</td>\n",
       "      <td>10.829167</td>\n",
       "      <td>10.80</td>\n",
       "      <td>3.43</td>\n",
       "      <td>7.35</td>\n",
       "      <td>0.67</td>\n",
       "      <td>0.97</td>\n",
       "    </tr>\n",
       "  </tbody>\n",
       "</table>\n",
       "<p>827 rows × 8 columns</p>\n",
       "</div>"
      ],
      "text/plain": [
       "            day  energy_sum    dayTime  visibility  temperatureMin  \\\n",
       "0    2011-11-23    6.952692   8.520000        8.06            3.81   \n",
       "1    2011-11-24    8.536480   8.476111       10.64            8.56   \n",
       "2    2011-11-25    9.499781   8.433333       12.38            7.46   \n",
       "3    2011-11-26   10.267707   8.391944       13.07            7.01   \n",
       "4    2011-11-27   10.850805   8.351667       13.08            4.47   \n",
       "..          ...         ...        ...         ...             ...   \n",
       "822  2014-02-24   10.411403  10.569444       13.00            7.99   \n",
       "823  2014-02-25   10.294997  10.634167       12.09            6.79   \n",
       "824  2014-02-26   10.202945  10.699167       13.00            4.17   \n",
       "825  2014-02-27   10.356350  10.763889       12.04            3.93   \n",
       "826  2014-02-28    0.208997  10.829167       10.80            3.43   \n",
       "\n",
       "     temperatureMax  cloudCover  moonPhase  \n",
       "0             10.36        0.36       0.94  \n",
       "1             12.93        0.41       0.97  \n",
       "2             13.03        0.48       0.01  \n",
       "3             12.96        0.44       0.05  \n",
       "4             13.54        0.42       0.08  \n",
       "..              ...         ...        ...  \n",
       "822           14.23        0.50       0.82  \n",
       "823           11.43        0.62       0.86  \n",
       "824           11.29        0.26       0.90  \n",
       "825           10.31        0.32       0.93  \n",
       "826            7.35        0.67       0.97  \n",
       "\n",
       "[827 rows x 8 columns]"
      ]
     },
     "execution_count": 69,
     "metadata": {},
     "output_type": "execute_result"
    }
   ],
   "source": [
    "df_merged"
   ]
  },
  {
   "cell_type": "code",
   "execution_count": 70,
   "metadata": {
    "scrolled": true
   },
   "outputs": [
    {
     "data": {
      "text/plain": [
       "energy_sum        1.000000\n",
       "dayTime          -0.768339\n",
       "visibility       -0.245011\n",
       "temperatureMin   -0.804079\n",
       "temperatureMax   -0.843281\n",
       "cloudCover        0.240353\n",
       "moonPhase        -0.033909\n",
       "Name: energy_sum, dtype: float64"
      ]
     },
     "execution_count": 70,
     "metadata": {},
     "output_type": "execute_result"
    }
   ],
   "source": [
    "df_merged.corr()['energy_sum']"
   ]
  },
  {
   "cell_type": "code",
   "execution_count": 71,
   "metadata": {},
   "outputs": [],
   "source": [
    "x = df_merged[[\"temperatureMin\"]]\n",
    "y = df_merged[[\"energy_sum\"]]"
   ]
  },
  {
   "cell_type": "code",
   "execution_count": 72,
   "metadata": {},
   "outputs": [
    {
     "data": {
      "text/plain": [
       "<matplotlib.collections.PathCollection at 0x1b4e96960f0>"
      ]
     },
     "execution_count": 72,
     "metadata": {},
     "output_type": "execute_result"
    },
    {
     "data": {
      "image/png": "[encoded data removed]",
      "text/plain": [
       "<Figure size 720x504 with 1 Axes>"
      ]
     },
     "metadata": {
      "needs_background": "light"
     },
     "output_type": "display_data"
    }
   ],
   "source": [
    "plt.figure(figsize=(10,7))\n",
    "plt.scatter(x, y)"
   ]
  },
  {
   "cell_type": "code",
   "execution_count": 73,
   "metadata": {},
   "outputs": [
    {
     "data": {
      "text/html": [
       "<div>\n",
       "<style scoped>\n",
       "    .dataframe tbody tr th:only-of-type {\n",
       "        vertical-align: middle;\n",
       "    }\n",
       "\n",
       "    .dataframe tbody tr th {\n",
       "        vertical-align: top;\n",
       "    }\n",
       "\n",
       "    .dataframe thead th {\n",
       "        text-align: right;\n",
       "    }\n",
       "</style>\n",
       "<table border=\"1\" class=\"dataframe\">\n",
       "  <thead>\n",
       "    <tr style=\"text-align: right;\">\n",
       "      <th></th>\n",
       "      <th>day</th>\n",
       "      <th>energy_sum</th>\n",
       "      <th>dayTime</th>\n",
       "      <th>visibility</th>\n",
       "      <th>temperatureMin</th>\n",
       "      <th>temperatureMax</th>\n",
       "      <th>cloudCover</th>\n",
       "      <th>moonPhase</th>\n",
       "    </tr>\n",
       "  </thead>\n",
       "  <tbody>\n",
       "    <tr>\n",
       "      <th>826</th>\n",
       "      <td>2014-02-28</td>\n",
       "      <td>0.208997</td>\n",
       "      <td>10.829167</td>\n",
       "      <td>10.8</td>\n",
       "      <td>3.43</td>\n",
       "      <td>7.35</td>\n",
       "      <td>0.67</td>\n",
       "      <td>0.97</td>\n",
       "    </tr>\n",
       "  </tbody>\n",
       "</table>\n",
       "</div>"
      ],
      "text/plain": [
       "            day  energy_sum    dayTime  visibility  temperatureMin  \\\n",
       "826  2014-02-28    0.208997  10.829167        10.8            3.43   \n",
       "\n",
       "     temperatureMax  cloudCover  moonPhase  \n",
       "826            7.35        0.67       0.97  "
      ]
     },
     "execution_count": 73,
     "metadata": {},
     "output_type": "execute_result"
    }
   ],
   "source": [
    "df_merged.loc[df_merged[\"energy_sum\"] < 2]"
   ]
  },
  {
   "cell_type": "code",
   "execution_count": 74,
   "metadata": {},
   "outputs": [],
   "source": [
    "df_merged.drop(index = 826, inplace = True)"
   ]
  },
  {
   "cell_type": "code",
   "execution_count": 76,
   "metadata": {},
   "outputs": [
    {
     "data": {
      "text/plain": [
       "<matplotlib.collections.PathCollection at 0x1b4bdb2cd68>"
      ]
     },
     "execution_count": 76,
     "metadata": {},
     "output_type": "execute_result"
    },
    {
     "data": {
      "image/png": "[encoded data removed]",
      "text/plain": [
       "<Figure size 720x504 with 1 Axes>"
      ]
     },
     "metadata": {
      "needs_background": "light"
     },
     "output_type": "display_data"
    }
   ],
   "source": [
    "plt.figure(figsize=(10,7))\n",
    "plt.scatter(df_merged[[\"temperatureMin\"]], df_merged[[\"energy_sum\"]])"
   ]
  },
  {
   "cell_type": "code",
   "execution_count": 77,
   "metadata": {},
   "outputs": [
    {
     "data": {
      "text/plain": [
       "LinearRegression()"
      ]
     },
     "execution_count": 77,
     "metadata": {},
     "output_type": "execute_result"
    }
   ],
   "source": [
    "regressor = LinearRegression()\n",
    "regressor.fit(df_merged[[\"temperatureMin\"]], df_merged[[\"energy_sum\"]])"
   ]
  },
  {
   "cell_type": "code",
   "execution_count": 78,
   "metadata": {},
   "outputs": [
    {
     "data": {
      "text/plain": [
       "0.6464541929516212"
      ]
     },
     "execution_count": 78,
     "metadata": {},
     "output_type": "execute_result"
    }
   ],
   "source": [
    "regressor.score(x, y)"
   ]
  },
  {
   "cell_type": "code",
   "execution_count": 79,
   "metadata": {},
   "outputs": [
    {
     "data": {
      "text/plain": [
       "[<matplotlib.lines.Line2D at 0x1b4d305fb38>]"
      ]
     },
     "execution_count": 79,
     "metadata": {},
     "output_type": "execute_result"
    },
    {
     "data": {
      "image/png": "[encoded data removed]",
      "text/plain": [
       "<Figure size 720x504 with 1 Axes>"
      ]
     },
     "metadata": {
      "needs_background": "light"
     },
     "output_type": "display_data"
    }
   ],
   "source": [
    "plt.figure(figsize=(10,7))\n",
    "plt.scatter(df_merged[[\"temperatureMin\"]], df_merged[[\"energy_sum\"]])\n",
    "plt.plot(df_merged[[\"temperatureMin\"]], regressor.predict(df_merged[[\"temperatureMin\"]]))"
   ]
  },
  {
   "cell_type": "code",
   "execution_count": 82,
   "metadata": {},
   "outputs": [
    {
     "data": {
      "text/plain": [
       "[<matplotlib.lines.Line2D at 0x1b4e8517358>]"
      ]
     },
     "execution_count": 82,
     "metadata": {},
     "output_type": "execute_result"
    },
    {
     "data": {
      "image/png": "[encoded data removed]",
      "text/plain": [
       "<Figure size 936x504 with 1 Axes>"
      ]
     },
     "metadata": {
      "needs_background": "light"
     },
     "output_type": "display_data"
    }
   ],
   "source": [
    "#X = df_merged[[\"dayTime\"]]\n",
    "#Y = df_merged[[\"energy_sum\"]]\n",
    "regressor = LinearRegression()\n",
    "regressor.fit(df_merged[[\"dayTime\"]], df_merged[[\"energy_sum\"]])\n",
    "plt.figure(figsize=(13,7))\n",
    "plt.scatter(df_merged[[\"dayTime\"]], df_merged[[\"energy_sum\"]])\n",
    "plt.plot(df_merged[[\"dayTime\"]], regressor.predict(df_merged[[\"dayTime\"]]))"
   ]
  },
  {
   "cell_type": "code",
   "execution_count": 83,
   "metadata": {},
   "outputs": [
    {
     "data": {
      "text/plain": [
       "0.5902925556686588"
      ]
     },
     "execution_count": 83,
     "metadata": {},
     "output_type": "execute_result"
    }
   ],
   "source": [
    "regressor.score(X, Y)"
   ]
  },
  {
   "cell_type": "code",
   "execution_count": 39,
   "metadata": {},
   "outputs": [],
   "source": [
    "df_merged = sm.add_constant(df_merged)\n",
    "df_merged_y = df_merged[\"energy_sum\"]\n",
    "df_merged_x = df_merged[['const','dayTime', 'temperatureMin']]\n",
    "df_merged_ols = sm.OLS(df_merged_y, df_merged_x, missing = 'drop').fit()"
   ]
  },
  {
   "cell_type": "code",
   "execution_count": 41,
   "metadata": {},
   "outputs": [
    {
     "data": {
      "text/html": [
       "<table class=\"simpletable\">\n",
       "<caption>OLS Regression Results</caption>\n",
       "<tr>\n",
       "  <th>Dep. Variable:</th>       <td>energy_sum</td>    <th>  R-squared:         </th> <td>   0.759</td> \n",
       "</tr>\n",
       "<tr>\n",
       "  <th>Model:</th>                   <td>OLS</td>       <th>  Adj. R-squared:    </th> <td>   0.759</td> \n",
       "</tr>\n",
       "<tr>\n",
       "  <th>Method:</th>             <td>Least Squares</td>  <th>  F-statistic:       </th> <td>   1299.</td> \n",
       "</tr>\n",
       "<tr>\n",
       "  <th>Date:</th>             <td>Tue, 15 Sep 2020</td> <th>  Prob (F-statistic):</th> <td>1.88e-255</td>\n",
       "</tr>\n",
       "<tr>\n",
       "  <th>Time:</th>                 <td>12:00:09</td>     <th>  Log-Likelihood:    </th> <td> -1109.7</td> \n",
       "</tr>\n",
       "<tr>\n",
       "  <th>No. Observations:</th>      <td>   827</td>      <th>  AIC:               </th> <td>   2225.</td> \n",
       "</tr>\n",
       "<tr>\n",
       "  <th>Df Residuals:</th>          <td>   824</td>      <th>  BIC:               </th> <td>   2240.</td> \n",
       "</tr>\n",
       "<tr>\n",
       "  <th>Df Model:</th>              <td>     2</td>      <th>                     </th>     <td> </td>    \n",
       "</tr>\n",
       "<tr>\n",
       "  <th>Covariance Type:</th>      <td>nonrobust</td>    <th>                     </th>     <td> </td>    \n",
       "</tr>\n",
       "</table>\n",
       "<table class=\"simpletable\">\n",
       "<tr>\n",
       "         <td></td>           <th>coef</th>     <th>std err</th>      <th>t</th>      <th>P>|t|</th>  <th>[0.025</th>    <th>0.975]</th>  \n",
       "</tr>\n",
       "<tr>\n",
       "  <th>const</th>          <td>   15.0150</td> <td>    0.135</td> <td>  111.536</td> <td> 0.000</td> <td>   14.751</td> <td>   15.279</td>\n",
       "</tr>\n",
       "<tr>\n",
       "  <th>dayTime</th>        <td>   -0.2666</td> <td>    0.014</td> <td>  -19.629</td> <td> 0.000</td> <td>   -0.293</td> <td>   -0.240</td>\n",
       "</tr>\n",
       "<tr>\n",
       "  <th>temperatureMin</th> <td>   -0.2009</td> <td>    0.008</td> <td>  -24.033</td> <td> 0.000</td> <td>   -0.217</td> <td>   -0.185</td>\n",
       "</tr>\n",
       "</table>\n",
       "<table class=\"simpletable\">\n",
       "<tr>\n",
       "  <th>Omnibus:</th>       <td>521.249</td> <th>  Durbin-Watson:     </th> <td>   0.644</td> \n",
       "</tr>\n",
       "<tr>\n",
       "  <th>Prob(Omnibus):</th> <td> 0.000</td>  <th>  Jarque-Bera (JB):  </th> <td>24996.117</td>\n",
       "</tr>\n",
       "<tr>\n",
       "  <th>Skew:</th>          <td>-2.184</td>  <th>  Prob(JB):          </th> <td>    0.00</td> \n",
       "</tr>\n",
       "<tr>\n",
       "  <th>Kurtosis:</th>      <td>29.577</td>  <th>  Cond. No.          </th> <td>    62.2</td> \n",
       "</tr>\n",
       "</table><br/><br/>Warnings:<br/>[1] Standard Errors assume that the covariance matrix of the errors is correctly specified."
      ],
      "text/plain": [
       "<class 'statsmodels.iolib.summary.Summary'>\n",
       "\"\"\"\n",
       "                            OLS Regression Results                            \n",
       "==============================================================================\n",
       "Dep. Variable:             energy_sum   R-squared:                       0.759\n",
       "Model:                            OLS   Adj. R-squared:                  0.759\n",
       "Method:                 Least Squares   F-statistic:                     1299.\n",
       "Date:                Tue, 15 Sep 2020   Prob (F-statistic):          1.88e-255\n",
       "Time:                        12:00:09   Log-Likelihood:                -1109.7\n",
       "No. Observations:                 827   AIC:                             2225.\n",
       "Df Residuals:                     824   BIC:                             2240.\n",
       "Df Model:                           2                                         \n",
       "Covariance Type:            nonrobust                                         \n",
       "==================================================================================\n",
       "                     coef    std err          t      P>|t|      [0.025      0.975]\n",
       "----------------------------------------------------------------------------------\n",
       "const             15.0150      0.135    111.536      0.000      14.751      15.279\n",
       "dayTime           -0.2666      0.014    -19.629      0.000      -0.293      -0.240\n",
       "temperatureMin    -0.2009      0.008    -24.033      0.000      -0.217      -0.185\n",
       "==============================================================================\n",
       "Omnibus:                      521.249   Durbin-Watson:                   0.644\n",
       "Prob(Omnibus):                  0.000   Jarque-Bera (JB):            24996.117\n",
       "Skew:                          -2.184   Prob(JB):                         0.00\n",
       "Kurtosis:                      29.577   Cond. No.                         62.2\n",
       "==============================================================================\n",
       "\n",
       "Warnings:\n",
       "[1] Standard Errors assume that the covariance matrix of the errors is correctly specified.\n",
       "\"\"\""
      ]
     },
     "execution_count": 41,
     "metadata": {},
     "output_type": "execute_result"
    }
   ],
   "source": [
    "df_merged_ols.summary()"
   ]
  },
  {
   "cell_type": "code",
   "execution_count": null,
   "metadata": {},
   "outputs": [],
   "source": []
  }
 ],
 "metadata": {
  "kernelspec": {
   "display_name": "Python 3",
   "language": "python",
   "name": "python3"
  },
  "language_info": {
   "codemirror_mode": {
    "name": "ipython",
    "version": 3
   },
   "file_extension": ".py",
   "mimetype": "text/x-python",
   "name": "python",
   "nbconvert_exporter": "python",
   "pygments_lexer": "ipython3",
   "version": "3.7.1"
  }
 },
 "nbformat": 4,
 "nbformat_minor": 4
}
