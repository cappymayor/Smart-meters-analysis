{
 "cells": [
  {
   "cell_type": "markdown",
   "metadata": {},
   "source": [
    "# Merging weather_daily_darksky with daily_dataset"
   ]
  },
  {
   "cell_type": "markdown",
   "metadata": {},
   "source": [
    "## Importing libraries"
   ]
  },
  {
   "cell_type": "code",
   "execution_count": 1,
   "metadata": {},
   "outputs": [],
   "source": [
    "import pandas as pd\n",
    "pd.set_option('display.max_columns', None)"
   ]
  },
  {
   "cell_type": "markdown",
   "metadata": {},
   "source": [
    "## Reading .csv files into DataFrames"
   ]
  },
  {
   "cell_type": "code",
   "execution_count": 3,
   "metadata": {},
   "outputs": [],
   "source": [
    "df_weather = pd.read_csv(\"../Data/weather_daily_darksky.csv\")"
   ]
  },
  {
   "cell_type": "code",
   "execution_count": 4,
   "metadata": {},
   "outputs": [],
   "source": [
    "df_daily = pd.read_csv(\"../Data/daily_dataset.csv\")"
   ]
  },
  {
   "cell_type": "markdown",
   "metadata": {},
   "source": [
    "## Checking types of columns who will be merged on"
   ]
  },
  {
   "cell_type": "code",
   "execution_count": 11,
   "metadata": {},
   "outputs": [
    {
     "data": {
      "text/plain": [
       "dtype('O')"
      ]
     },
     "execution_count": 11,
     "metadata": {},
     "output_type": "execute_result"
    }
   ],
   "source": [
    "df_weather.time.dtypes"
   ]
  },
  {
   "cell_type": "code",
   "execution_count": 12,
   "metadata": {},
   "outputs": [
    {
     "data": {
      "text/plain": [
       "dtype('O')"
      ]
     },
     "execution_count": 12,
     "metadata": {},
     "output_type": "execute_result"
    }
   ],
   "source": [
    "df_daily.day.dtypes"
   ]
  },
  {
   "cell_type": "markdown",
   "metadata": {},
   "source": [
    "## Transforming type to date"
   ]
  },
  {
   "cell_type": "code",
   "execution_count": 16,
   "metadata": {},
   "outputs": [
    {
     "data": {
      "text/plain": [
       "13    2011-11-01\n",
       "60    2011-11-02\n",
       "34    2011-11-03\n",
       "31    2011-11-04\n",
       "46    2011-11-05\n",
       "         ...    \n",
       "874   2014-03-27\n",
       "876   2014-03-28\n",
       "867   2014-03-29\n",
       "844   2014-03-30\n",
       "830   2014-03-30\n",
       "Name: time, Length: 882, dtype: datetime64[ns]"
      ]
     },
     "execution_count": 16,
     "metadata": {},
     "output_type": "execute_result"
    }
   ],
   "source": [
    "df_weather.time = pd.to_datetime(df_weather.time).dt.date\n",
    "df_weather['time'] = pd.to_datetime(df_weather['time'])\n",
    "df_weather = df_weather.sort_values(by = ['time'])\n",
    "df_weather['time'] "
   ]
  },
  {
   "cell_type": "code",
   "execution_count": 17,
   "metadata": {},
   "outputs": [
    {
     "data": {
      "text/plain": [
       "2124392   2011-11-23\n",
       "1913391   2011-11-23\n",
       "867863    2011-11-23\n",
       "2319064   2011-11-23\n",
       "1727216   2011-11-23\n",
       "             ...    \n",
       "1181682   2014-02-28\n",
       "1181087   2014-02-28\n",
       "1180492   2014-02-28\n",
       "1184884   2014-02-28\n",
       "3510432   2014-02-28\n",
       "Name: day, Length: 3510433, dtype: datetime64[ns]"
      ]
     },
     "execution_count": 17,
     "metadata": {},
     "output_type": "execute_result"
    }
   ],
   "source": [
    "df_daily.day = pd.to_datetime(df_daily.day,format = '%Y/%m/%d')\n",
    "df_daily = df_daily.sort_values(by = ['day'])\n",
    "df_daily.day"
   ]
  },
  {
   "cell_type": "markdown",
   "metadata": {},
   "source": [
    "## Merging the two DataFrames"
   ]
  },
  {
   "cell_type": "code",
   "execution_count": 18,
   "metadata": {},
   "outputs": [],
   "source": [
    "df_merged = df_weather.merge(df_daily, left_on='time', right_on='day')"
   ]
  },
  {
   "cell_type": "markdown",
   "metadata": {},
   "source": [
    "## Checking columns of merged Dataframe"
   ]
  },
  {
   "cell_type": "code",
   "execution_count": 19,
   "metadata": {
    "scrolled": true
   },
   "outputs": [
    {
     "data": {
      "text/plain": [
       "Index(['temperatureMax', 'temperatureMaxTime', 'windBearing', 'icon',\n",
       "       'dewPoint', 'temperatureMinTime', 'cloudCover', 'windSpeed', 'pressure',\n",
       "       'apparentTemperatureMinTime', 'apparentTemperatureHigh', 'precipType',\n",
       "       'visibility', 'humidity', 'apparentTemperatureHighTime',\n",
       "       'apparentTemperatureLow', 'apparentTemperatureMax', 'uvIndex', 'time',\n",
       "       'sunsetTime', 'temperatureLow', 'temperatureMin', 'temperatureHigh',\n",
       "       'sunriseTime', 'temperatureHighTime', 'uvIndexTime', 'summary',\n",
       "       'temperatureLowTime', 'apparentTemperatureMin',\n",
       "       'apparentTemperatureMaxTime', 'apparentTemperatureLowTime', 'moonPhase',\n",
       "       'LCLid', 'day', 'energy_median', 'energy_mean', 'energy_max',\n",
       "       'energy_count', 'energy_std', 'energy_sum', 'energy_min'],\n",
       "      dtype='object')"
      ]
     },
     "execution_count": 19,
     "metadata": {},
     "output_type": "execute_result"
    }
   ],
   "source": [
    "df_merged.columns"
   ]
  },
  {
   "cell_type": "markdown",
   "metadata": {},
   "source": [
    "## Inspecting type of 'sunsetTime' & 'sunriseTime'"
   ]
  },
  {
   "cell_type": "code",
   "execution_count": 23,
   "metadata": {},
   "outputs": [
    {
     "data": {
      "text/plain": [
       "dtype('O')"
      ]
     },
     "execution_count": 23,
     "metadata": {},
     "output_type": "execute_result"
    }
   ],
   "source": [
    "df_merged.sunsetTime.dtypes"
   ]
  },
  {
   "cell_type": "code",
   "execution_count": 24,
   "metadata": {},
   "outputs": [
    {
     "data": {
      "text/plain": [
       "dtype('O')"
      ]
     },
     "execution_count": 24,
     "metadata": {},
     "output_type": "execute_result"
    }
   ],
   "source": [
    "df_merged.sunriseTime.dtypes"
   ]
  },
  {
   "cell_type": "markdown",
   "metadata": {},
   "source": [
    "## Transforming type to date"
   ]
  },
  {
   "cell_type": "code",
   "execution_count": 25,
   "metadata": {},
   "outputs": [],
   "source": [
    "df_merged['sunsetTime'] = pd.to_datetime(df_merged['sunsetTime'])\n",
    "df_merged['sunriseTime'] = pd.to_datetime(df_merged['sunriseTime'])"
   ]
  },
  {
   "cell_type": "markdown",
   "metadata": {},
   "source": [
    "## Calculating the day time for everyday"
   ]
  },
  {
   "cell_type": "code",
   "execution_count": 26,
   "metadata": {},
   "outputs": [],
   "source": [
    "df_merged['dayTime'] = df_merged['sunsetTime'] - df_merged['sunriseTime']\n",
    "df_merged['dayTime'] = df_merged['dayTime'] / pd.offsets.Hour()"
   ]
  },
  {
   "cell_type": "markdown",
   "metadata": {},
   "source": [
    "## Droping unnecessary columns"
   ]
  },
  {
   "cell_type": "code",
   "execution_count": 27,
   "metadata": {},
   "outputs": [],
   "source": [
    "df_merged = df_merged.drop(columns = ['temperatureMaxTime',\n",
    "                                      'windBearing',\n",
    "                                      'dewPoint',\n",
    "                                      'temperatureMinTime',\n",
    "                                      'windSpeed',\n",
    "                                      'pressure',\n",
    "                                      'apparentTemperatureMinTime', \n",
    "                                      'apparentTemperatureHigh', \n",
    "                                      'precipType',\n",
    "                                      'apparentTemperatureHighTime',\n",
    "                                      'apparentTemperatureLow',\n",
    "                                      'apparentTemperatureMax',\n",
    "                                      'uvIndex', \n",
    "                                      'time',\n",
    "                                      'temperatureHighTime',\n",
    "                                      'uvIndexTime', \n",
    "                                      'summary',\n",
    "                                      'temperatureLowTime',\n",
    "                                      'apparentTemperatureMin',\n",
    "                                      'apparentTemperatureMaxTime', \n",
    "                                      'apparentTemperatureLowTime',\n",
    "                                      'humidity',\n",
    "                                      'sunsetTime',\n",
    "                                      'sunriseTime',\n",
    "                                      'temperatureLow',\n",
    "                                      'temperatureHigh',\n",
    "                                     ])"
   ]
  },
  {
   "cell_type": "code",
   "execution_count": 161,
   "metadata": {},
   "outputs": [
    {
     "name": "stdout",
     "output_type": "stream",
     "text": [
      "<class 'pandas.core.frame.DataFrame'>\n",
      "Int64Index: 3506318 entries, 0 to 3506317\n",
      "Data columns (total 16 columns):\n",
      " #   Column          Dtype         \n",
      "---  ------          -----         \n",
      " 0   temperatureMax  float64       \n",
      " 1   icon            object        \n",
      " 2   cloudCover      float64       \n",
      " 3   visibility      float64       \n",
      " 4   temperatureMin  float64       \n",
      " 5   moonPhase       float64       \n",
      " 6   LCLid           object        \n",
      " 7   day             datetime64[ns]\n",
      " 8   energy_median   float64       \n",
      " 9   energy_mean     float64       \n",
      " 10  energy_max      float64       \n",
      " 11  energy_count    int64         \n",
      " 12  energy_std      float64       \n",
      " 13  energy_sum      float64       \n",
      " 14  energy_min      float64       \n",
      " 15  dayTime         float64       \n",
      "dtypes: datetime64[ns](1), float64(12), int64(1), object(2)\n",
      "memory usage: 454.8+ MB\n"
     ]
    }
   ],
   "source": [
    "df_merged.info()"
   ]
  },
  {
   "cell_type": "markdown",
   "metadata": {},
   "source": [
    "## Rearranging Columns"
   ]
  },
  {
   "cell_type": "code",
   "execution_count": 28,
   "metadata": {},
   "outputs": [],
   "source": [
    "df_merged = df_merged[['day', 'LCLid', 'energy_sum', 'energy_mean','energy_max', 'energy_min',\n",
    "                       'energy_std', 'energy_count', 'dayTime', 'visibility', 'temperatureMin',\n",
    "                       'temperatureMax','icon', 'cloudCover', 'moonPhase',  \n",
    "                        ]]"
   ]
  },
  {
   "cell_type": "markdown",
   "metadata": {},
   "source": [
    "## Exporting merged DataFrame to .csv file"
   ]
  },
  {
   "cell_type": "code",
   "execution_count": 167,
   "metadata": {},
   "outputs": [],
   "source": [
    "df_merged.to_csv(\"../Data/daily_weather_merged.csv\")"
   ]
  }
 ],
 "metadata": {
  "kernelspec": {
   "display_name": "Python 3",
   "language": "python",
   "name": "python3"
  },
  "language_info": {
   "codemirror_mode": {
    "name": "ipython",
    "version": 3
   },
   "file_extension": ".py",
   "mimetype": "text/x-python",
   "name": "python",
   "nbconvert_exporter": "python",
   "pygments_lexer": "ipython3",
   "version": "3.8.3"
  }
 },
 "nbformat": 4,
 "nbformat_minor": 4
}
