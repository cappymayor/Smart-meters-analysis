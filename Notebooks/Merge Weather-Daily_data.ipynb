{
 "cells": [
  {
   "cell_type": "code",
   "execution_count": 150,
   "metadata": {},
   "outputs": [],
   "source": [
    "import pandas as pd\n",
    "pd.set_option('display.max_columns', None)"
   ]
  },
  {
   "cell_type": "code",
   "execution_count": 151,
   "metadata": {},
   "outputs": [],
   "source": [
    "df_weather = pd.read_csv(\"../Data/weather_daily_darksky.csv\")"
   ]
  },
  {
   "cell_type": "code",
   "execution_count": 152,
   "metadata": {},
   "outputs": [],
   "source": [
    "df_daily = pd.read_csv(\"../Data/daily_dataset.csv\")"
   ]
  },
  {
   "cell_type": "code",
   "execution_count": 153,
   "metadata": {},
   "outputs": [
    {
     "data": {
      "text/plain": [
       "temperatureMax                 float64\n",
       "temperatureMaxTime              object\n",
       "windBearing                      int64\n",
       "icon                            object\n",
       "dewPoint                       float64\n",
       "temperatureMinTime              object\n",
       "cloudCover                     float64\n",
       "windSpeed                      float64\n",
       "pressure                       float64\n",
       "apparentTemperatureMinTime      object\n",
       "apparentTemperatureHigh        float64\n",
       "precipType                      object\n",
       "visibility                     float64\n",
       "humidity                       float64\n",
       "apparentTemperatureHighTime     object\n",
       "apparentTemperatureLow         float64\n",
       "apparentTemperatureMax         float64\n",
       "uvIndex                        float64\n",
       "time                            object\n",
       "sunsetTime                      object\n",
       "temperatureLow                 float64\n",
       "temperatureMin                 float64\n",
       "temperatureHigh                float64\n",
       "sunriseTime                     object\n",
       "temperatureHighTime             object\n",
       "uvIndexTime                     object\n",
       "summary                         object\n",
       "temperatureLowTime              object\n",
       "apparentTemperatureMin         float64\n",
       "apparentTemperatureMaxTime      object\n",
       "apparentTemperatureLowTime      object\n",
       "moonPhase                      float64\n",
       "dtype: object"
      ]
     },
     "execution_count": 153,
     "metadata": {},
     "output_type": "execute_result"
    }
   ],
   "source": [
    "df_weather.dtypes"
   ]
  },
  {
   "cell_type": "code",
   "execution_count": 154,
   "metadata": {},
   "outputs": [
    {
     "data": {
      "text/plain": [
       "13    2011-11-01\n",
       "60    2011-11-02\n",
       "34    2011-11-03\n",
       "31    2011-11-04\n",
       "46    2011-11-05\n",
       "         ...    \n",
       "874   2014-03-27\n",
       "876   2014-03-28\n",
       "867   2014-03-29\n",
       "844   2014-03-30\n",
       "830   2014-03-30\n",
       "Name: time, Length: 882, dtype: datetime64[ns]"
      ]
     },
     "execution_count": 154,
     "metadata": {},
     "output_type": "execute_result"
    }
   ],
   "source": [
    "df_weather.time = pd.to_datetime(df_weather.time).dt.date\n",
    "df_weather['time'] = pd.to_datetime(df_weather['time'])\n",
    "df_weather = df_weather.sort_values(by = ['time'])\n",
    "df_weather['time'] "
   ]
  },
  {
   "cell_type": "code",
   "execution_count": 155,
   "metadata": {},
   "outputs": [
    {
     "data": {
      "text/plain": [
       "2124392   2011-11-23\n",
       "1913391   2011-11-23\n",
       "867863    2011-11-23\n",
       "2319064   2011-11-23\n",
       "1727216   2011-11-23\n",
       "             ...    \n",
       "1181682   2014-02-28\n",
       "1181087   2014-02-28\n",
       "1180492   2014-02-28\n",
       "1184884   2014-02-28\n",
       "3510432   2014-02-28\n",
       "Name: day, Length: 3510433, dtype: datetime64[ns]"
      ]
     },
     "execution_count": 155,
     "metadata": {},
     "output_type": "execute_result"
    }
   ],
   "source": [
    "df_daily.day = pd.to_datetime(df_daily.day,format = '%Y/%m/%d')\n",
    "df_daily = df_daily.sort_values(by = ['day'])\n",
    "df_daily.day"
   ]
  },
  {
   "cell_type": "code",
   "execution_count": 156,
   "metadata": {},
   "outputs": [],
   "source": [
    "df_merged = df_weather.merge(df_daily, left_on='time', right_on='day')"
   ]
  },
  {
   "cell_type": "code",
   "execution_count": 157,
   "metadata": {
    "scrolled": true
   },
   "outputs": [
    {
     "data": {
      "text/plain": [
       "Index(['temperatureMax', 'temperatureMaxTime', 'windBearing', 'icon',\n",
       "       'dewPoint', 'temperatureMinTime', 'cloudCover', 'windSpeed', 'pressure',\n",
       "       'apparentTemperatureMinTime', 'apparentTemperatureHigh', 'precipType',\n",
       "       'visibility', 'humidity', 'apparentTemperatureHighTime',\n",
       "       'apparentTemperatureLow', 'apparentTemperatureMax', 'uvIndex', 'time',\n",
       "       'sunsetTime', 'temperatureLow', 'temperatureMin', 'temperatureHigh',\n",
       "       'sunriseTime', 'temperatureHighTime', 'uvIndexTime', 'summary',\n",
       "       'temperatureLowTime', 'apparentTemperatureMin',\n",
       "       'apparentTemperatureMaxTime', 'apparentTemperatureLowTime', 'moonPhase',\n",
       "       'LCLid', 'day', 'energy_median', 'energy_mean', 'energy_max',\n",
       "       'energy_count', 'energy_std', 'energy_sum', 'energy_min'],\n",
       "      dtype='object')"
      ]
     },
     "execution_count": 157,
     "metadata": {},
     "output_type": "execute_result"
    }
   ],
   "source": [
    "df_merged.columns"
   ]
  },
  {
   "cell_type": "code",
   "execution_count": 158,
   "metadata": {},
   "outputs": [],
   "source": [
    "df_merged['sunsetTime'] = pd.to_datetime(df_merged['sunsetTime'])\n",
    "df_merged['sunriseTime'] = pd.to_datetime(df_merged['sunriseTime'])"
   ]
  },
  {
   "cell_type": "code",
   "execution_count": 159,
   "metadata": {},
   "outputs": [],
   "source": [
    "df_merged['dayTime'] = df_merged['sunsetTime'] - df_merged['sunriseTime']\n",
    "df_merged['dayTime'] = df_merged['dayTime'] / pd.offsets.Hour()"
   ]
  },
  {
   "cell_type": "code",
   "execution_count": 160,
   "metadata": {},
   "outputs": [],
   "source": [
    "df_merged = df_merged.drop(columns = ['temperatureMaxTime',\n",
    "                                      'windBearing',\n",
    "                                      'dewPoint',\n",
    "                                      'temperatureMinTime',\n",
    "                                      'windSpeed',\n",
    "                                      'pressure',\n",
    "                                      'apparentTemperatureMinTime', \n",
    "                                      'apparentTemperatureHigh', \n",
    "                                      'precipType',\n",
    "                                      'apparentTemperatureHighTime',\n",
    "                                      'apparentTemperatureLow',\n",
    "                                      'apparentTemperatureMax',\n",
    "                                      'uvIndex', \n",
    "                                      'time',\n",
    "                                      'temperatureHighTime',\n",
    "                                      'uvIndexTime', \n",
    "                                      'summary',\n",
    "                                      'temperatureLowTime',\n",
    "                                      'apparentTemperatureMin',\n",
    "                                      'apparentTemperatureMaxTime', \n",
    "                                      'apparentTemperatureLowTime',\n",
    "                                      'humidity',\n",
    "                                      'sunsetTime',\n",
    "                                      'sunriseTime',\n",
    "                                      'temperatureLow',\n",
    "                                      'temperatureHigh',\n",
    "                                     ])"
   ]
  },
  {
   "cell_type": "code",
   "execution_count": 161,
   "metadata": {},
   "outputs": [
    {
     "name": "stdout",
     "output_type": "stream",
     "text": [
      "<class 'pandas.core.frame.DataFrame'>\n",
      "Int64Index: 3506318 entries, 0 to 3506317\n",
      "Data columns (total 16 columns):\n",
      " #   Column          Dtype         \n",
      "---  ------          -----         \n",
      " 0   temperatureMax  float64       \n",
      " 1   icon            object        \n",
      " 2   cloudCover      float64       \n",
      " 3   visibility      float64       \n",
      " 4   temperatureMin  float64       \n",
      " 5   moonPhase       float64       \n",
      " 6   LCLid           object        \n",
      " 7   day             datetime64[ns]\n",
      " 8   energy_median   float64       \n",
      " 9   energy_mean     float64       \n",
      " 10  energy_max      float64       \n",
      " 11  energy_count    int64         \n",
      " 12  energy_std      float64       \n",
      " 13  energy_sum      float64       \n",
      " 14  energy_min      float64       \n",
      " 15  dayTime         float64       \n",
      "dtypes: datetime64[ns](1), float64(12), int64(1), object(2)\n",
      "memory usage: 454.8+ MB\n"
     ]
    }
   ],
   "source": [
    "df_merged.info()\n"
   ]
  },
  {
   "cell_type": "code",
   "execution_count": 162,
   "metadata": {},
   "outputs": [
    {
     "data": {
      "text/plain": [
       "Index(['temperatureMax', 'icon', 'cloudCover', 'visibility', 'temperatureMin',\n",
       "       'moonPhase', 'LCLid', 'day', 'energy_median', 'energy_mean',\n",
       "       'energy_max', 'energy_count', 'energy_std', 'energy_sum', 'energy_min',\n",
       "       'dayTime'],\n",
       "      dtype='object')"
      ]
     },
     "execution_count": 162,
     "metadata": {},
     "output_type": "execute_result"
    }
   ],
   "source": [
    "df_merged.columns"
   ]
  },
  {
   "cell_type": "code",
   "execution_count": 163,
   "metadata": {},
   "outputs": [],
   "source": [
    "df_merged = df_merged[['day', 'LCLid', 'energy_sum', 'energy_mean','energy_max', 'energy_min',\n",
    "                       'energy_std', 'energy_count', 'dayTime', 'visibility', 'temperatureMin',\n",
    "                       'temperatureMax','icon', 'cloudCover', 'moonPhase',  \n",
    "                        ]]"
   ]
  },
  {
   "cell_type": "code",
   "execution_count": 164,
   "metadata": {},
   "outputs": [
    {
     "data": {
      "text/plain": [
       "day                   0\n",
       "LCLid                 0\n",
       "energy_sum           30\n",
       "energy_mean          30\n",
       "energy_max           30\n",
       "energy_min           30\n",
       "energy_std        11334\n",
       "energy_count          0\n",
       "dayTime               0\n",
       "visibility            0\n",
       "temperatureMin        0\n",
       "temperatureMax        0\n",
       "icon                  0\n",
       "cloudCover         5099\n",
       "moonPhase             0\n",
       "dtype: int64"
      ]
     },
     "execution_count": 164,
     "metadata": {},
     "output_type": "execute_result"
    }
   ],
   "source": [
    "df_merged.isnull().sum()"
   ]
  },
  {
   "cell_type": "code",
   "execution_count": 165,
   "metadata": {},
   "outputs": [
    {
     "data": {
      "text/html": [
       "<div>\n",
       "<style scoped>\n",
       "    .dataframe tbody tr th:only-of-type {\n",
       "        vertical-align: middle;\n",
       "    }\n",
       "\n",
       "    .dataframe tbody tr th {\n",
       "        vertical-align: top;\n",
       "    }\n",
       "\n",
       "    .dataframe thead th {\n",
       "        text-align: right;\n",
       "    }\n",
       "</style>\n",
       "<table border=\"1\" class=\"dataframe\">\n",
       "  <thead>\n",
       "    <tr style=\"text-align: right;\">\n",
       "      <th></th>\n",
       "      <th>day</th>\n",
       "      <th>cloudCover</th>\n",
       "    </tr>\n",
       "  </thead>\n",
       "  <tbody>\n",
       "    <tr>\n",
       "      <th>3208219</th>\n",
       "      <td>2014-01-01</td>\n",
       "      <td>NaN</td>\n",
       "    </tr>\n",
       "    <tr>\n",
       "      <th>3208220</th>\n",
       "      <td>2014-01-01</td>\n",
       "      <td>NaN</td>\n",
       "    </tr>\n",
       "    <tr>\n",
       "      <th>3208221</th>\n",
       "      <td>2014-01-01</td>\n",
       "      <td>NaN</td>\n",
       "    </tr>\n",
       "    <tr>\n",
       "      <th>3208222</th>\n",
       "      <td>2014-01-01</td>\n",
       "      <td>NaN</td>\n",
       "    </tr>\n",
       "    <tr>\n",
       "      <th>3208223</th>\n",
       "      <td>2014-01-01</td>\n",
       "      <td>NaN</td>\n",
       "    </tr>\n",
       "    <tr>\n",
       "      <th>...</th>\n",
       "      <td>...</td>\n",
       "      <td>...</td>\n",
       "    </tr>\n",
       "    <tr>\n",
       "      <th>3213313</th>\n",
       "      <td>2014-01-01</td>\n",
       "      <td>NaN</td>\n",
       "    </tr>\n",
       "    <tr>\n",
       "      <th>3213314</th>\n",
       "      <td>2014-01-01</td>\n",
       "      <td>NaN</td>\n",
       "    </tr>\n",
       "    <tr>\n",
       "      <th>3213315</th>\n",
       "      <td>2014-01-01</td>\n",
       "      <td>NaN</td>\n",
       "    </tr>\n",
       "    <tr>\n",
       "      <th>3213316</th>\n",
       "      <td>2014-01-01</td>\n",
       "      <td>NaN</td>\n",
       "    </tr>\n",
       "    <tr>\n",
       "      <th>3213317</th>\n",
       "      <td>2014-01-01</td>\n",
       "      <td>NaN</td>\n",
       "    </tr>\n",
       "  </tbody>\n",
       "</table>\n",
       "<p>5099 rows × 2 columns</p>\n",
       "</div>"
      ],
      "text/plain": [
       "               day  cloudCover\n",
       "3208219 2014-01-01         NaN\n",
       "3208220 2014-01-01         NaN\n",
       "3208221 2014-01-01         NaN\n",
       "3208222 2014-01-01         NaN\n",
       "3208223 2014-01-01         NaN\n",
       "...            ...         ...\n",
       "3213313 2014-01-01         NaN\n",
       "3213314 2014-01-01         NaN\n",
       "3213315 2014-01-01         NaN\n",
       "3213316 2014-01-01         NaN\n",
       "3213317 2014-01-01         NaN\n",
       "\n",
       "[5099 rows x 2 columns]"
      ]
     },
     "execution_count": 165,
     "metadata": {},
     "output_type": "execute_result"
    }
   ],
   "source": [
    "df_merged.loc[df_merged.cloudCover.isnull(), [\"day\", \"cloudCover\"]]"
   ]
  },
  {
   "cell_type": "code",
   "execution_count": 166,
   "metadata": {},
   "outputs": [
    {
     "data": {
      "text/plain": [
       "2014-01-01    5099\n",
       "Name: day, dtype: int64"
      ]
     },
     "execution_count": 166,
     "metadata": {},
     "output_type": "execute_result"
    }
   ],
   "source": [
    "df_merged.loc[df_merged.cloudCover.isnull(), [\"day\", \"cloudCover\"]].day.value_counts()"
   ]
  },
  {
   "cell_type": "code",
   "execution_count": 167,
   "metadata": {},
   "outputs": [],
   "source": [
    "df_merged.to_csv(\"../Data/daily_weather_merged.csv\")"
   ]
  },
  {
   "cell_type": "code",
   "execution_count": null,
   "metadata": {},
   "outputs": [],
   "source": []
  }
 ],
 "metadata": {
  "kernelspec": {
   "display_name": "Python 3",
   "language": "python",
   "name": "python3"
  },
  "language_info": {
   "codemirror_mode": {
    "name": "ipython",
    "version": 3
   },
   "file_extension": ".py",
   "mimetype": "text/x-python",
   "name": "python",
   "nbconvert_exporter": "python",
   "pygments_lexer": "ipython3",
   "version": "3.8.5"
  }
 },
 "nbformat": 4,
 "nbformat_minor": 4
}
